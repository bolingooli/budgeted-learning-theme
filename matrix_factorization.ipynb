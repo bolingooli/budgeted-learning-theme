{
 "cells": [
  {
   "cell_type": "code",
   "execution_count": 2,
   "id": "62d800d0",
   "metadata": {},
   "outputs": [],
   "source": [
    "import numpy\n",
    "\n",
    "class matrix_factorization():\n",
    "    \n",
    "    def __init__(self,R,a,b,it,k):\n",
    "        self.R=R\n",
    "        self.user_n, self.item_n=R.shape\n",
    "        self.alpha=a\n",
    "        self.beta=b\n",
    "        self.iterations=it\n",
    "        self.K=k\n",
    "        \n",
    "    def learn(self):\n",
    "        self.b_users=numpy.zeros(self.user_n)\n",
    "        self.b_items=numpy.zeros(self.item_n)\n",
    "        self.b=numpy.mean(self.R[numpy.where(self.R!=0)])\n",
    "        \n",
    "        self.P=numpy.random.normal(scale=1./self.K,size=(self.user_n,self.K))\n",
    "        self.Q=numpy.random.normal(scale=1./self.K,size=(self.item_n,self.K))\n",
    "        \n",
    "        self.samples=[]\n",
    "        for i in range (self.user_n):\n",
    "            for j in range (self.item_n):\n",
    "                if (self.R[i][j])>0:\n",
    "                    self.samples.append((i,j,self.R[i][j]))\n",
    "\n",
    "        for i in range (self.iterations):\n",
    "            numpy.random.shuffle(self.samples)\n",
    "            self.sgd()\n",
    "            \n",
    "            \n",
    "    def sgd(self):\n",
    "        for i, j, r in self.samples:\n",
    "            prediction = self.get_rating(i, j)\n",
    "            e = (r - prediction)\n",
    "            \n",
    "            self.b_users[i]+=self.alpha*(e-self.beta*self.b_users[i])\n",
    "            self.b_items[j]+=self.alpha*(e-self.beta*self.b_items[j])\n",
    "            \n",
    "            self.P[i,:]+=self.alpha*(e*self.Q[j,:]-self.beta*self.P[i,:])\n",
    "            self.Q[j,:]+=self.alpha*(e*self.P[i,:]-self.beta*self.Q[j,:])\n",
    "            \n",
    "    def get_rating(self,i,j):\n",
    "        return self.b_users[i]+self.b_items[j]+self.b+self.P[i,:].dot(self.Q[j,:].T)\n",
    "    \n",
    "    def complete(self):\n",
    "        return self.P.dot(self.Q.T)+self.b+self.b_users[:,numpy.newaxis]+self.b_items[numpy.newaxis,:]\n",
    "        "
   ]
  },
  {
   "cell_type": "code",
   "execution_count": 3,
   "id": "11950eaa",
   "metadata": {
    "scrolled": true
   },
   "outputs": [
    {
     "name": "stdout",
     "output_type": "stream",
     "text": [
      "[[5.0232846  1.7696894  5.61837472 1.11331502]\n",
      " [0.9932678  1.22900303 4.92770005 0.84584631]\n",
      " [1.05283797 0.72470391 3.26698243 1.15163339]\n",
      " [1.00870971 2.30251497 3.24397104 3.96423979]\n",
      " [4.95680353 1.27910346 3.42327927 1.83597128]]\n"
     ]
    }
   ],
   "source": [
    "M = numpy.array([\n",
    "    [5, 2, 0, 1],\n",
    "    [1, 1, 5, 1],\n",
    "    [1, 1, 0, 1],\n",
    "    [1, 0, 0, 4],\n",
    "    [5, 1, 0, 2],\n",
    "])\n",
    "\n",
    "mf = matrix_factorization(M, 0.1, 0.01, 20, 2)\n",
    "\n",
    "mf.learn()\n",
    "\n",
    "print(mf.complete())\n"
   ]
  },
  {
   "cell_type": "code",
   "execution_count": null,
   "id": "4f5a33da",
   "metadata": {},
   "outputs": [],
   "source": []
  },
  {
   "cell_type": "code",
   "execution_count": null,
   "id": "a6499523",
   "metadata": {},
   "outputs": [],
   "source": []
  }
 ],
 "metadata": {
  "kernelspec": {
   "display_name": "Python 3 (ipykernel)",
   "language": "python",
   "name": "python3"
  },
  "language_info": {
   "codemirror_mode": {
    "name": "ipython",
    "version": 3
   },
   "file_extension": ".py",
   "mimetype": "text/x-python",
   "name": "python",
   "nbconvert_exporter": "python",
   "pygments_lexer": "ipython3",
   "version": "3.9.7"
  }
 },
 "nbformat": 4,
 "nbformat_minor": 5
}
